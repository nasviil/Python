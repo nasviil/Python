{
 "cells": [
  {
   "cell_type": "code",
   "execution_count": 98,
   "metadata": {},
   "outputs": [],
   "source": [
    "# Import necessary libraries\n",
    "import numpy as np\n",
    "import matplotlib.pyplot as plt"
   ]
  },
  {
   "cell_type": "code",
   "execution_count": 99,
   "metadata": {},
   "outputs": [],
   "source": [
    "# Sigmoid function\n",
    "def sigmoid(x):\n",
    "    return 1 / (1 + np.exp(-x))\n",
    "\n",
    "# Derivative of sigmoid function\n",
    "def sigmoid_derivative(x):\n",
    "    return x * (1 - x)\n",
    "\n",
    "# Mean Squared Error function\n",
    "def mse(y_true, y_pred):\n",
    "    return np.mean((y_true - y_pred) ** 2)\n"
   ]
  },
  {
   "cell_type": "code",
   "execution_count": 100,
   "metadata": {},
   "outputs": [],
   "source": [
    "# Data: 10 samples, 2 features each\n",
    "x = np.array([[2104, 3], \n",
    "              [1600, 3], \n",
    "              [2400, 3], \n",
    "              [1416, 2], \n",
    "              [3000, 4], \n",
    "              [1985, 4], \n",
    "              [1534, 3], \n",
    "              [1427, 3], \n",
    "              [1380, 3], \n",
    "              [1494, 3]])\n",
    "# Target: 10 samples, corresponding to the output\n",
    "y = np.array([[1], [1], [1], [0], [0], [1], [0], [1], [1], [1]])"
   ]
  },
  {
   "cell_type": "code",
   "execution_count": 101,
   "metadata": {},
   "outputs": [],
   "source": [
    "# Normalize the input data\n",
    "x_min = np.min(x, axis=0)\n",
    "x_max = np.max(x, axis=0)\n",
    "x_normalized = (x - x_min) / (x_max - x_min)\n",
    "\n",
    "# Initialize weights and biases\n",
    "input_neurons = 2\n",
    "output_neurons = 1\n",
    "\n",
    "weights = np.ones((input_neurons, output_neurons))\n",
    "bias = np.zeros((1, output_neurons))   \n",
    "learning_rate = 0.1\n",
    "epochs = 1000"
   ]
  },
  {
   "cell_type": "code",
   "execution_count": 102,
   "metadata": {},
   "outputs": [
    {
     "name": "stdout",
     "output_type": "stream",
     "text": [
      "Epoch 0, Loss: 0.21556761658369497\n",
      "Epoch 50, Loss: 0.2140732865632034\n",
      "Epoch 100, Loss: 0.21311032606806557\n",
      "Epoch 150, Loss: 0.21244563126604263\n",
      "Epoch 200, Loss: 0.21195340015010275\n",
      "Epoch 250, Loss: 0.2115634870949227\n",
      "Epoch 300, Loss: 0.2112357049794243\n",
      "Epoch 350, Loss: 0.21094651364640357\n",
      "Epoch 400, Loss: 0.2106818730658972\n",
      "Epoch 450, Loss: 0.21043328556589258\n",
      "Epoch 500, Loss: 0.2101955456784194\n",
      "Epoch 550, Loss: 0.2099654323009333\n",
      "Epoch 600, Loss: 0.20974093450985237\n",
      "Epoch 650, Loss: 0.20952078632594864\n",
      "Epoch 700, Loss: 0.20930418369068654\n",
      "Epoch 750, Loss: 0.20909061057745987\n",
      "Epoch 800, Loss: 0.20887973130676038\n",
      "Epoch 850, Loss: 0.20867132344227263\n",
      "Epoch 900, Loss: 0.20846523577192483\n",
      "Epoch 950, Loss: 0.20826136189974895\n"
     ]
    }
   ],
   "source": [
    "# Training loop\n",
    "losses = []\n",
    "\n",
    "for epoch in range(epochs):\n",
    "    # Forward pass\n",
    "    z = np.dot(x_normalized, weights) + bias\n",
    "    y_pred = sigmoid(z)\n",
    "\n",
    "    # Compute loss\n",
    "    loss = mse(y, y_pred)\n",
    "    losses.append(loss)\n",
    "\n",
    "    # Backward pass (gradient descent)\n",
    "    error = y_pred - y\n",
    "    d_loss = error * sigmoid_derivative(y_pred)\n",
    "\n",
    "    # Update weights and bias\n",
    "    weights -= learning_rate * np.dot(x_normalized.T, d_loss)  / x.shape[0]\n",
    "    bias -= learning_rate * np.sum(d_loss)  / x.shape[0]\n",
    "\n",
    "    # Print loss every 50 epochs\n",
    "    if epoch % 50 == 0:\n",
    "        print(f'Epoch {epoch}, Loss: {loss}')\n"
   ]
  },
  {
   "cell_type": "code",
   "execution_count": 103,
   "metadata": {},
   "outputs": [
    {
     "name": "stdout",
     "output_type": "stream",
     "text": [
      "Updated weights: [[0.69787352]\n",
      " [1.42511343]]\n",
      "Updated bias: [[0.10893509]]\n"
     ]
    }
   ],
   "source": [
    "# Print the updated weights and bias\n",
    "print(\"Updated weights:\", weights)\n",
    "print(\"Updated bias:\", bias)"
   ]
  },
  {
   "cell_type": "code",
   "execution_count": 104,
   "metadata": {},
   "outputs": [
    {
     "data": {
      "image/png": "[encoded data removed]",
      "text/plain": [
       "<Figure size 640x480 with 1 Axes>"
      ]
     },
     "metadata": {},
     "output_type": "display_data"
    }
   ],
   "source": [
    "# Plot the loss over time\n",
    "plt.plot(losses)\n",
    "plt.title(\"Loss over Time\")\n",
    "plt.xlabel(\"Epoch\")\n",
    "plt.ylabel(\"MSE Loss\")\n",
    "plt.show()"
   ]
  },
  {
   "cell_type": "code",
   "execution_count": 105,
   "metadata": {},
   "outputs": [],
   "source": [
    "def normalize_data(new_property, x_min, x_max):\n",
    "    return (new_property - x_min) / (x_max - x_min)\n",
    "\n",
    "def predict_classification(normalized_property, weights, bias):\n",
    "    return sigmoid(np.dot(normalized_property, weights) + bias)\n",
    "\n",
    "def classify_prediction(y_pred):\n",
    "    return \"Good\" if y_pred > 0.5 else \"Bad\"\n"
   ]
  },
  {
   "cell_type": "code",
   "execution_count": 106,
   "metadata": {},
   "outputs": [
    {
     "name": "stdout",
     "output_type": "stream",
     "text": [
      "Property 1 (Area, Bathrooms): [1500    1]\n",
      "Property 1 Classification: Bad [[0.36541738]]\n",
      "Property 2 (Area, Bathrooms): [2000    2]\n",
      "Property 2 Classification: Good [[0.59291342]]\n"
     ]
    }
   ],
   "source": [
    "# Test with new data (Area, Bathrooms)\n",
    "property_1 = np.array([[1500, 1]])\n",
    "property_2 = np.array([[2000, 2]])\n",
    "\n",
    "# Normalize the new data\n",
    "temp_property_1 = normalize_data(property_1, x_min, x_max)\n",
    "temp_property_2 = normalize_data(property_2, x_min, x_max)\n",
    "\n",
    "# Predict the classifications\n",
    "yp_property_1 = predict_classification(temp_property_1, weights, bias)\n",
    "yp_property_2 = predict_classification(temp_property_2, weights, bias)\n",
    "\n",
    "# Print the classification results for new properties\n",
    "print(\"Property 1 (Area, Bathrooms):\", property_1[0])\n",
    "print(\"Property 1 Classification:\", classify_prediction(yp_property_1), yp_property_1)\n",
    "\n",
    "print(\"Property 2 (Area, Bathrooms):\", property_2[0])\n",
    "print(\"Property 2 Classification:\", classify_prediction(yp_property_2), yp_property_2)"
   ]
  }
 ],
 "metadata": {
  "kernelspec": {
   "display_name": "Python 3",
   "language": "python",
   "name": "python3"
  },
  "language_info": {
   "codemirror_mode": {
    "name": "ipython",
    "version": 3
   },
   "file_extension": ".py",
   "mimetype": "text/x-python",
   "name": "python",
   "nbconvert_exporter": "python",
   "pygments_lexer": "ipython3",
   "version": "3.12.6"
  }
 },
 "nbformat": 4,
 "nbformat_minor": 2
}
